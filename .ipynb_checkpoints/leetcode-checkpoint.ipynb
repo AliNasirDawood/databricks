{
 "cells": [
  {
   "cell_type": "markdown",
   "id": "5154ef4f-bc91-456c-9934-d5641c30d28f",
   "metadata": {},
   "source": [
    "### 1768 Merge String Alternately"
   ]
  },
  {
   "cell_type": "markdown",
   "id": "0c6e0efe-bb3b-4702-94d1-abd3fd748496",
   "metadata": {},
   "source": [
    "#### You are given two strings word1 and word2. Merge the strings by adding letters in alternating order, starting with word1. If a string is longer than the other, append the additional letters onto the end of the merged string.\n",
    "\n",
    "#### Return the merged string.\n",
    "Example 1:\n",
    "\n",
    "Input: word1 = \"abc\", word2 = \"pqr\"\n",
    "Output: \"apbqcr\"\n",
    "Explanation: The merged string will be merged as so:\n",
    "word1:  a   b   c\n",
    "word2:    p   q   r\n",
    "merged: a p b q c r\n",
    "Example 2:\n",
    "\n",
    "Input: word1 = \"ab\", word2 = \"pqrs\"\n",
    "Output: \"apbqrs\"\n",
    "Explanation: Notice that as word2 is longer, \"rs\" is appended to the end.\n",
    "word1:  a   b \n",
    "word2:    p   q   r   s\n",
    "merged: a p b q   r   s\n",
    "\n",
    "Constraints:\n",
    "\n",
    "1 <= word1.length, word2.length <= 100\n",
    "word1 and word2 consist of lowercase English letters."
   ]
  },
  {
   "cell_type": "code",
   "execution_count": 1,
   "id": "3061e01d-b723-4af4-91ab-bddaf5504c2d",
   "metadata": {
    "tags": []
   },
   "outputs": [],
   "source": [
    "class Solution:\n",
    "    def mergeAlternately(self, word1: str, word2: str) -> str:\n",
    "        \n",
    "        \n",
    "        merge_string = []\n",
    "        word_length = max(len(word1) , len(word2))\n",
    "        for i in range (word_length):\n",
    "            if i <len(word1):\n",
    "                merge_string += word1[i]\n",
    "            if i <len(word2):\n",
    "                merge_string += word2[i]\n",
    "        return ''.join(merge_string)\n",
    "    \n",
    "    \n"
   ]
  },
  {
   "cell_type": "markdown",
   "id": "7e2919eb-854e-4dda-9f08-eb43ed335aee",
   "metadata": {
    "tags": []
   },
   "source": [
    "### 1071. Greatest Common Divisor of Strings\n",
    "For two strings s and t, we say \"t divides s\" if and only if s = t + ... + t (i.e., t is concatenated with itself one or more times).\n",
    "\n",
    "Given two strings str1 and str2, return the largest string x such that x divides both str1 and str2.\n",
    "\n",
    " \n",
    "\n",
    "Example 1:\n",
    "\n",
    "Input: str1 = \"ABCABC\", str2 = \"ABC\"\n",
    "Output: \"ABC\"\n",
    "Example 2:\n",
    "\n",
    "Input: str1 = \"ABABAB\", str2 = \"ABAB\"\n",
    "Output: \"AB\"\n",
    "Example 3:\n",
    "\n",
    "Input: str1 = \"LEET\", str2 = \"CODE\"\n",
    "Output: \"\"\n",
    " \n",
    "\n",
    "Constraints:\n",
    "\n",
    "1 <= str1.length, str2.length <= 1000\n",
    "str1 and str2 consist of English uppercase letters."
   ]
  },
  {
   "cell_type": "code",
   "execution_count": 4,
   "id": "03df6787-eef8-469c-a47a-5f9d8b807389",
   "metadata": {},
   "outputs": [
    {
     "ename": "TypeError",
     "evalue": "unsupported operand type(s) for /: 'str' and 'str'",
     "output_type": "error",
     "traceback": [
      "\u001b[1;31m---------------------------------------------------------------------------\u001b[0m",
      "\u001b[1;31mTypeError\u001b[0m                                 Traceback (most recent call last)",
      "Cell \u001b[1;32mIn[4], line 4\u001b[0m\n\u001b[0;32m      1\u001b[0m s \u001b[38;5;241m=\u001b[39m \u001b[38;5;124m'\u001b[39m\u001b[38;5;124maaaaaaa\u001b[39m\u001b[38;5;124m'\u001b[39m\n\u001b[0;32m      2\u001b[0m g \u001b[38;5;241m=\u001b[39m \u001b[38;5;124m'\u001b[39m\u001b[38;5;124ma\u001b[39m\u001b[38;5;124m'\u001b[39m\n\u001b[1;32m----> 4\u001b[0m s\u001b[38;5;241m/\u001b[39mg\n",
      "\u001b[1;31mTypeError\u001b[0m: unsupported operand type(s) for /: 'str' and 'str'"
     ]
    }
   ],
   "source": []
  },
  {
   "cell_type": "code",
   "execution_count": 4,
   "id": "2d4e425a-2efc-42ab-8d79-1f8a0f21875a",
   "metadata": {
    "tags": []
   },
   "outputs": [
    {
     "name": "stdout",
     "output_type": "stream",
     "text": [
      "['s', 'k', 'y', ' ', 'i', 's', ' ', 'b', 'l', 'u', 'e']\n"
     ]
    }
   ],
   "source": [
    "reverse = []\n",
    "text = 'sky is blue'\n",
    "word = ''\n",
    "for i in range(len (text)):\n",
    "    reverse.append(text[i])\n",
    "\n",
    "    \n",
    "print(reverse)"
   ]
  },
  {
   "cell_type": "code",
   "execution_count": 1,
   "id": "929744e0-d513-4013-95d9-591f502549f3",
   "metadata": {},
   "outputs": [
    {
     "name": "stdout",
     "output_type": "stream",
     "text": [
      "t\n",
      "h\n",
      "e\n",
      " \n",
      "s\n",
      "k\n",
      "y\n",
      " \n",
      "i\n",
      "s\n",
      " \n",
      "b\n",
      "l\n",
      "u\n",
      "e\n",
      "True\n",
      "['the', 'sky', 'is', 'blue']\n",
      "blue is sky the\n",
      " \n",
      " \n",
      "h\n",
      "e\n",
      "l\n",
      "l\n",
      "o\n",
      " \n",
      "w\n",
      "o\n",
      "r\n",
      "l\n",
      "d\n",
      " \n",
      " \n",
      "['hello', 'world']\n",
      "world hello\n",
      "a\n",
      " \n",
      "g\n",
      "o\n",
      "o\n",
      "d\n",
      " \n",
      " \n",
      " \n",
      "e\n",
      "x\n",
      "a\n",
      "m\n",
      "p\n",
      "l\n",
      "e\n",
      "True\n",
      "['a', 'good', 'example']\n",
      "example good a\n"
     ]
    }
   ],
   "source": [
    "def reverseWords(s):\n",
    "    words = []\n",
    "    word = ''\n",
    "    in_word = False\n",
    "    \n",
    "    # Iterate through the characters in the input string\n",
    "    for char in s:\n",
    "        print(char)\n",
    "        if char != ' ':\n",
    "            word += char\n",
    "            in_word = True\n",
    "        elif in_word:\n",
    "            words.append(word)\n",
    "            word = ''\n",
    "            in_word = False\n",
    "    \n",
    "    # Add the last word if there are trailing characters\n",
    "    if in_word:\n",
    "        print(in_word)\n",
    "        words.append(word)\n",
    "    \n",
    "    # Reverse the order of words and join them with a single space\n",
    "    print(words)\n",
    "    reversed_string = ' '.join(reversed(words))\n",
    "    \n",
    "    return reversed_string\n",
    "\n",
    "# Test cases\n",
    "s1 = \"the sky is blue\"\n",
    "print(reverseWords(s1))  # Output: \"blue is sky the\"\n",
    "\n",
    "s2 = \"  hello world  \"\n",
    "print(reverseWords(s2))  # Output: \"world hello\"\n",
    "\n",
    "s3 = \"a good   example\"\n",
    "print(reverseWords(s3))  # Output: \"example good a\"\n"
   ]
  },
  {
   "cell_type": "code",
   "execution_count": 3,
   "id": "56a559ab-b9cc-4f23-9c0f-8df1238a01f9",
   "metadata": {},
   "outputs": [
    {
     "name": "stdout",
     "output_type": "stream",
     "text": [
      "1\n",
      "2\n",
      "6\n",
      "24\n",
      "120\n"
     ]
    }
   ],
   "source": [
    "arr = [1,2,3,4,5]\n",
    "mul = 1\n",
    "for i in range (len(arr)):\n",
    "    mul *= arr[i]\n",
    "    print(mul)"
   ]
  },
  {
   "cell_type": "code",
   "execution_count": 11,
   "id": "1123ebe1-867c-4c45-a9cf-88d2c37e257c",
   "metadata": {},
   "outputs": [
    {
     "name": "stdout",
     "output_type": "stream",
     "text": [
      "{1: 1, 2: 2}\n"
     ]
    }
   ],
   "source": [
    "arr = [1,2]\n",
    "dup = []\n",
    "\n",
    "def boole(arr):\n",
    "    my_dict  = {}\n",
    "    for num in arr:\n",
    "        my_dict[num] = num\n",
    "    print(my_dict)\n",
    "        \n",
    "    #     dup.append(arr[num])\n",
    "    # for num in arr:\n",
    "    #     if num not in dup:\n",
    "    #         return False\n",
    "    #     else:\n",
    "    #         return True\n",
    "boole(arr)"
   ]
  },
  {
   "cell_type": "code",
   "execution_count": 21,
   "id": "a848ef38-e8c7-4d69-a17b-9faee43ac8e0",
   "metadata": {},
   "outputs": [
    {
     "name": "stdout",
     "output_type": "stream",
     "text": [
      "Head: 10\n",
      "10 -> 20 -> 30 -> 40 -> None\n",
      "Length of the linked list: 4\n",
      "Head: 10\n",
      "10 -> 20 -> 30 -> 40 -> None\n"
     ]
    }
   ],
   "source": [
    "class Node:\n",
    "    def __init__(self, data=None):\n",
    "        self.data = data\n",
    "        self.next = None\n",
    "\n",
    "class LinkedList:\n",
    "    def __init__(self):\n",
    "        self.head = None\n",
    "\n",
    "    def append(self, data):\n",
    "        new_node = Node(data)\n",
    "        if not self.head:\n",
    "            self.head = new_node\n",
    "            return\n",
    "        last = self.head\n",
    "        while last.next:\n",
    "            last = last.next\n",
    "        last.next = new_node\n",
    "\n",
    "    def print_list(self):\n",
    "        if self.head:\n",
    "            print(\"Head:\", self.head.data)\n",
    "        else:\n",
    "            print(\"Head: None\")\n",
    "        \n",
    "        current = self.head\n",
    "        while current:\n",
    "            print(current.data, end=\" -> \")\n",
    "            current = current.next\n",
    "        print(None)\n",
    "        \n",
    "    def print_length(self):\n",
    "        current = self.head\n",
    "        length = 0\n",
    "        while current:\n",
    "            length +=1\n",
    "            current = current.next\n",
    "            \n",
    "        return length\n",
    "    \n",
    "    def delete_mid(self, length):\n",
    "        \n",
    "        mid  = length//2\n",
    "        pre = None\n",
    "        current = self.head\n",
    "        \n",
    "        for i in range (mid):\n",
    "            \n",
    "            \n",
    "            pre = current\n",
    "            current = current.next\n",
    "            \n",
    "        pre.next = current.next\n",
    "        \n",
    "        \n",
    "        \n",
    "    \n",
    "    \n",
    "\n",
    "# Example usage\n",
    "if __name__ == \"__main__\":\n",
    "    linked_list = LinkedList()\n",
    "    linked_list.append(10)\n",
    "    linked_list.append(20)\n",
    "    linked_list.append(30)\n",
    "    linked_list.append(40)\n",
    "    linked_list.print_list()\n",
    "    length = linked_list.print_length()\n",
    "    print(\"Length of the linked list:\", length)\n",
    "    linked_list.delete_mid(length)\n",
    "    linked_list.print_list()\n"
   ]
  },
  {
   "cell_type": "code",
   "execution_count": null,
   "id": "3f3f0e89-8fb7-4a72-aedb-b231304ab412",
   "metadata": {},
   "outputs": [],
   "source": []
  },
  {
   "cell_type": "code",
   "execution_count": null,
   "id": "83bf3236-62cb-47d6-903c-779cbe542005",
   "metadata": {},
   "outputs": [],
   "source": []
  }
 ],
 "metadata": {
  "kernelspec": {
   "display_name": "Python 3 (ipykernel)",
   "language": "python",
   "name": "python3"
  },
  "language_info": {
   "codemirror_mode": {
    "name": "ipython",
    "version": 3
   },
   "file_extension": ".py",
   "mimetype": "text/x-python",
   "name": "python",
   "nbconvert_exporter": "python",
   "pygments_lexer": "ipython3",
   "version": "3.11.3"
  }
 },
 "nbformat": 4,
 "nbformat_minor": 5
}
